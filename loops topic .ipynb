{
 "cells": [
  {
   "cell_type": "code",
   "execution_count": 1,
   "id": "96c4ae08-2466-487e-8521-cc868900b74a",
   "metadata": {},
   "outputs": [],
   "source": [
    "#loops: it allows to excecute a block of code repeatedly\n",
    "#loops types : 1 . for loop 2. while lop"
   ]
  },
  {
   "cell_type": "code",
   "execution_count": 2,
   "id": "b2a4163b-5780-4d1c-a58f-dfaff9d1b361",
   "metadata": {},
   "outputs": [
    {
     "name": "stdout",
     "output_type": "stream",
     "text": [
      "1\n",
      "2\n",
      "3\n",
      "4\n",
      "5\n",
      "6\n"
     ]
    }
   ],
   "source": [
    "n = 7\n",
    "i = 1\n",
    "while i<n:\n",
    "    print(i)\n",
    "    i = i+1"
   ]
  },
  {
   "cell_type": "code",
   "execution_count": 3,
   "id": "29201665-8ba7-46e3-afc9-e519e718b808",
   "metadata": {},
   "outputs": [],
   "source": [
    "# here this code repeats contiusouly till the cides is executed"
   ]
  },
  {
   "cell_type": "code",
   "execution_count": 4,
   "id": "071bf47a-0c5f-4d1d-ad78-82983d72b4c0",
   "metadata": {},
   "outputs": [
    {
     "name": "stdout",
     "output_type": "stream",
     "text": [
      "5\n",
      "4\n",
      "3\n",
      "2\n",
      "1\n"
     ]
    }
   ],
   "source": [
    "count = 5\n",
    "while count >0:\n",
    "    print (count)\n",
    "    count = count - 1"
   ]
  },
  {
   "cell_type": "code",
   "execution_count": 5,
   "id": "b64c4fc4-cd59-409b-b310-6a08ae01f277",
   "metadata": {},
   "outputs": [
    {
     "name": "stdout",
     "output_type": "stream",
     "text": [
      "13\n",
      "12\n",
      "11\n",
      "10\n",
      "9\n",
      "8\n",
      "7\n",
      "6\n",
      "5\n",
      "4\n",
      "3\n",
      "2\n"
     ]
    }
   ],
   "source": [
    "age = 13\n",
    "year= 1\n",
    "while year< age:\n",
    "    print (age)\n",
    "    age = age -1"
   ]
  },
  {
   "cell_type": "code",
   "execution_count": 6,
   "id": "b0649217-50e0-48ee-b4b6-dcff7d23b015",
   "metadata": {},
   "outputs": [],
   "source": [
    "# thus in this way while formats works\n"
   ]
  },
  {
   "cell_type": "code",
   "execution_count": 7,
   "id": "b4dfef7c-b963-45da-96e4-da13b0e0fa66",
   "metadata": {},
   "outputs": [
    {
     "name": "stdout",
     "output_type": "stream",
     "text": [
      "1\n",
      "2\n",
      "3\n",
      "4\n",
      "5\n",
      "6\n",
      "this will be executed when the while loop is run succesfully\n"
     ]
    }
   ],
   "source": [
    "n = 7\n",
    "i = 1\n",
    "while i < n :\n",
    "    print(i)\n",
    "    i = i +1\n",
    "else :\n",
    "    print(\"this will be executed when the while loop is run succesfully\")"
   ]
  },
  {
   "cell_type": "code",
   "execution_count": 10,
   "id": "f4d6974a-4d39-466f-943b-e13be75d8978",
   "metadata": {},
   "outputs": [
    {
     "name": "stdout",
     "output_type": "stream",
     "text": [
      "1\n",
      "2\n"
     ]
    }
   ],
   "source": [
    "n = 7\n",
    "i = 1\n",
    "while i < n:\n",
    "    print(i)\n",
    "    i = i +1\n",
    "    if i == 3:\n",
    "        break\n",
    "else:\n",
    "    print(\"this will be executed when the while loop is run succesfully\")\n"
   ]
  },
  {
   "cell_type": "code",
   "execution_count": 11,
   "id": "75183d7d-908c-45a0-ad37-658370d07197",
   "metadata": {},
   "outputs": [],
   "source": [
    "#break plays an important role to break the chain"
   ]
  },
  {
   "cell_type": "code",
   "execution_count": 12,
   "id": "5fd78a7a-8b98-4fc8-a412-0bc0b5681eef",
   "metadata": {},
   "outputs": [],
   "source": [
    "# if you want remove the variable from the loop line use continous"
   ]
  },
  {
   "cell_type": "code",
   "execution_count": 13,
   "id": "09278d49-097a-4ce0-a916-46c6bc4a1f99",
   "metadata": {},
   "outputs": [],
   "source": [
    "# as for examples : break had allowed us to print till 2 in the"
   ]
  },
  {
   "cell_type": "code",
   "execution_count": 14,
   "id": "efc0394f-8d15-4200-a343-5fe0e0026cfc",
   "metadata": {},
   "outputs": [],
   "source": [
    "# bcz of the break bt as we use CONTINOUS it will jus remove the 3"
   ]
  },
  {
   "cell_type": "code",
   "execution_count": 15,
   "id": "41c0c83f-fed1-4746-8e6b-5c0960ce86fb",
   "metadata": {},
   "outputs": [],
   "source": [
    "# which was in  break as used above in the program"
   ]
  },
  {
   "cell_type": "code",
   "execution_count": 19,
   "id": "cde16613-cbf2-4d95-9683-1b45e0786c9e",
   "metadata": {},
   "outputs": [
    {
     "name": "stdout",
     "output_type": "stream",
     "text": [
      "2\n",
      "3\n",
      "4\n",
      "5\n",
      "6\n",
      "7\n",
      " this will be executed when the while loop is run successfully \n"
     ]
    }
   ],
   "source": [
    "n = 7\n",
    "i = 1\n",
    "while i < n:\n",
    "    i = i+1\n",
    "    if 1 == 3:\n",
    "        continue\n",
    "    print(i)\n",
    "else:\n",
    "    print(\" this will be executed when the while loop is run successfully \")\n",
    "\n",
    "    "
   ]
  },
  {
   "cell_type": "code",
   "execution_count": 20,
   "id": "99076be4-1cb9-4a23-9fcd-a637fd8e8fba",
   "metadata": {},
   "outputs": [],
   "source": [
    "# here where the loop was no rue from their we got the prin "
   ]
  },
  {
   "cell_type": "code",
   "execution_count": 21,
   "id": "13046627-8a99-478b-84df-6173a04b8543",
   "metadata": {},
   "outputs": [],
   "source": [
    "# and else is report as removed from the code"
   ]
  },
  {
   "cell_type": "code",
   "execution_count": 22,
   "id": "b0a85c92-5925-469f-9a0a-1fa8e8939bed",
   "metadata": {},
   "outputs": [],
   "source": [
    "# continue means : that o skip that iteration"
   ]
  },
  {
   "cell_type": "code",
   "execution_count": 23,
   "id": "2afa18c9-56a0-4ebe-891f-f17ebd292d6f",
   "metadata": {},
   "outputs": [],
   "source": [
    "# for loops:"
   ]
  },
  {
   "cell_type": "code",
   "execution_count": 24,
   "id": "78a15d9b-a802-4f40-adb3-77b24252e53b",
   "metadata": {},
   "outputs": [],
   "source": [
    "# for loops >> iterate overa sequence if elements >> string or list"
   ]
  },
  {
   "cell_type": "code",
   "execution_count": 25,
   "id": "cfef0df5-2365-4809-a922-bc73b0717c1b",
   "metadata": {},
   "outputs": [
    {
     "name": "stdout",
     "output_type": "stream",
     "text": [
      " \n",
      "n\n",
      "i\n",
      "s\n",
      "h\n",
      "i\n",
      " \n"
     ]
    }
   ],
   "source": [
    "a =\" nishi \"\n",
    "for char in a:\n",
    "    print(char)\n",
    "    "
   ]
  },
  {
   "cell_type": "code",
   "execution_count": 26,
   "id": "287be11f-b8ae-419b-be18-578a7af3231d",
   "metadata": {},
   "outputs": [],
   "source": [
    "# here we are able to all the characters one by one"
   ]
  },
  {
   "cell_type": "code",
   "execution_count": 34,
   "id": "85afe0e6-3c36-46b6-808d-9941201ba1d0",
   "metadata": {},
   "outputs": [
    {
     "name": "stdout",
     "output_type": "stream",
     "text": [
      " \n",
      "n\n",
      "i\n",
      "s\n",
      "h\n",
      "i\n",
      " \n"
     ]
    }
   ],
   "source": [
    "for a in a :\n",
    "    print(a)"
   ]
  },
  {
   "cell_type": "code",
   "execution_count": 42,
   "id": "8f23e037-bbac-4467-ba7d-7c89f82d6c22",
   "metadata": {},
   "outputs": [
    {
     "name": "stdout",
     "output_type": "stream",
     "text": [
      "1\n",
      "2\n",
      "3\n",
      "aashish\n",
      "nishi\n"
     ]
    }
   ],
   "source": [
    "list = [ 1, 2, 3, \"aashish\",\"nishi\"]\n",
    "for i in list:\n",
    "    print(i)"
   ]
  },
  {
   "cell_type": "code",
   "execution_count": 44,
   "id": "a43239b3-1161-4b26-9cea-f070b3849917",
   "metadata": {},
   "outputs": [
    {
     "name": "stdout",
     "output_type": "stream",
     "text": [
      "1\n",
      "2\n"
     ]
    }
   ],
   "source": [
    "list = [ 1, 2, 3, \"aahish\",\"nishi\"]\n",
    "for i in list:\n",
    "    if i== 3:\n",
    "        break\n",
    "    print(i)    "
   ]
  },
  {
   "cell_type": "code",
   "execution_count": 46,
   "id": "503ffc3b-a7b8-4654-a930-b63045884f2f",
   "metadata": {},
   "outputs": [
    {
     "name": "stdout",
     "output_type": "stream",
     "text": [
      "1\n",
      "1\n",
      "2\n",
      "aashish\n",
      "nishi\n"
     ]
    }
   ],
   "source": [
    "list = [ 1,1,2,3,\"aashish\",\"nishi\"]\n",
    "for i in list:\n",
    "    if i == 3:\n",
    "        continue\n",
    "    print(i)    "
   ]
  },
  {
   "cell_type": "code",
   "execution_count": 47,
   "id": "91c21d3d-ff15-41e0-a077-7fec58072e6f",
   "metadata": {},
   "outputs": [],
   "source": [
    "# here we have used BREAK and  CONTINUE  in the for loop also"
   ]
  },
  {
   "cell_type": "code",
   "execution_count": 57,
   "id": "d3aeb21f-cd66-4d65-8f61-0589aa31ff6f",
   "metadata": {},
   "outputs": [
    {
     "data": {
      "text/plain": [
       "range(0, 10)"
      ]
     },
     "execution_count": 57,
     "metadata": {},
     "output_type": "execute_result"
    }
   ],
   "source": [
    "range(0,10)"
   ]
  },
  {
   "cell_type": "code",
   "execution_count": 59,
   "id": "fd6a16c2-2a12-431b-8576-5b6ba1228508",
   "metadata": {},
   "outputs": [
    {
     "name": "stdout",
     "output_type": "stream",
     "text": [
      "0\n",
      "1\n",
      "2\n",
      "3\n",
      "4\n",
      "5\n",
      "6\n",
      "7\n",
      "8\n",
      "9\n"
     ]
    }
   ],
   "source": [
    "for i in range(10):\n",
    "    print(i)"
   ]
  },
  {
   "cell_type": "markdown",
   "id": "711b97aa-d2d4-484c-b376-0305178a60c4",
   "metadata": {},
   "source": [
    "print a pattern using nested loops"
   ]
  },
  {
   "cell_type": "code",
   "execution_count": 4,
   "id": "4ffa48fe-3095-4824-b007-133d3505342c",
   "metadata": {},
   "outputs": [
    {
     "name": "stdout",
     "output_type": "stream",
     "text": [
      "* \n",
      "* * \n",
      "* * * \n",
      "* * * * \n",
      "* * * * * \n"
     ]
    }
   ],
   "source": [
    "num_rows = 5\n",
    "\n",
    "for i in range(1, num_rows + 1):\n",
    "    for j in range(1, i + 1):\n",
    "        print(\"*\", end=\" \") \n",
    "      \n",
    "    print() \n",
    "    "
   ]
  },
  {
   "cell_type": "markdown",
   "id": "2c4c3d86-9ff7-42a2-85e8-b991dd62fa2e",
   "metadata": {},
   "source": [
    "Generate a multiplication table using nested loops "
   ]
  },
  {
   "cell_type": "code",
   "execution_count": 7,
   "id": "5f282d64-5b92-456e-bdab-06f38806d88a",
   "metadata": {},
   "outputs": [
    {
     "name": "stdout",
     "output_type": "stream",
     "text": [
      "1 * 1 = 1\t1 * 2 = 2\t1 * 3 = 3\t1 * 4 = 4\t\n",
      "2 * 1 = 2\t2 * 2 = 4\t2 * 3 = 6\t2 * 4 = 8\t\n",
      "3 * 1 = 3\t3 * 2 = 6\t3 * 3 = 9\t3 * 4 = 12\t\n",
      "4 * 1 = 4\t4 * 2 = 8\t4 * 3 = 12\t4 * 4 = 16\t\n"
     ]
    }
   ],
   "source": [
    "num_rows = 4\n",
    "num_cols = 4\n",
    "for i in range(1, num_rows + 1):\n",
    "    for j in range(1, num_cols + 1):\n",
    "        result = i * j\n",
    "        print(f\"{i} * {j} = {result}\", end=\"\\t\")  \n",
    "    print()  \n"
   ]
  },
  {
   "cell_type": "code",
   "execution_count": null,
   "id": "840c7e21-bb4c-41d4-b141-b58946af9f96",
   "metadata": {},
   "outputs": [],
   "source": []
  }
 ],
 "metadata": {
  "kernelspec": {
   "display_name": "Python 3 (ipykernel)",
   "language": "python",
   "name": "python3"
  },
  "language_info": {
   "codemirror_mode": {
    "name": "ipython",
    "version": 3
   },
   "file_extension": ".py",
   "mimetype": "text/x-python",
   "name": "python",
   "nbconvert_exporter": "python",
   "pygments_lexer": "ipython3",
   "version": "3.10.8"
  }
 },
 "nbformat": 4,
 "nbformat_minor": 5
}
