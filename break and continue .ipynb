{
 "cells": [
  {
   "cell_type": "code",
   "execution_count": 11,
   "id": "8aff971e-79d8-4c4e-9a3f-dfea10a985d5",
   "metadata": {},
   "outputs": [
    {
     "name": "stdout",
     "output_type": "stream",
     "text": [
      "1\n",
      "2\n",
      "3\n",
      "4\n"
     ]
    }
   ],
   "source": [
    "#write a program to print numbers from 1 to 10 , but stop if the number is 5\n",
    "n = 10\n",
    "i = 1\n",
    "while i < n :\n",
    "    print(i)\n",
    "    i = i + 1\n",
    "    if i ==5:\n",
    "        break\n",
    "else:\n",
    "    print(\" the number will be executed \")\n",
    "    \n",
    "    "
   ]
  },
  {
   "cell_type": "code",
   "execution_count": 12,
   "id": "9fb71077-1dde-4967-82c4-5cb1e20ea73b",
   "metadata": {},
   "outputs": [],
   "source": [
    "#2.Write a program to iterate through a list and stop when encountering a specific element."
   ]
  },
  {
   "cell_type": "code",
   "execution_count": 21,
   "id": "86a26c3d-e39e-4650-a4c2-0a8c300a679e",
   "metadata": {},
   "outputs": [
    {
     "name": "stdout",
     "output_type": "stream",
     "text": [
      "1\n",
      "1\n",
      "2\n",
      "aashish\n",
      "nishi\n"
     ]
    }
   ],
   "source": [
    "list = [ 1,1,2,3,\"aashish\",\"nishi\"]\n",
    "for i in list:\n",
    "    if i == 3:\n",
    "        continue\n",
    "    print(i)    "
   ]
  },
  {
   "cell_type": "code",
   "execution_count": 28,
   "id": "84b29a2b-5852-4c57-801e-765d2b02db1b",
   "metadata": {},
   "outputs": [],
   "source": [
    "#Write a program to skip printing even numbers from  to 0."
   ]
  },
  {
   "cell_type": "code",
   "execution_count": 29,
   "id": "b9439105-8d3f-4ca4-8f1b-6f8b40859cec",
   "metadata": {},
   "outputs": [
    {
     "name": "stdout",
     "output_type": "stream",
     "text": [
      "1\n",
      "3\n",
      "5\n",
      "7\n",
      "9\n"
     ]
    }
   ],
   "source": [
    "for i in range(10):\n",
    "    if i % 2 == 0:\n",
    "        continue\n",
    "    print(i)    \n",
    "        \n",
    "   \n",
    "    "
   ]
  },
  {
   "cell_type": "code",
   "execution_count": 30,
   "id": "588697ae-6f32-48fe-93c9-0243f3bbe902",
   "metadata": {},
   "outputs": [
    {
     "name": "stdout",
     "output_type": "stream",
     "text": [
      "0\n",
      "1\n",
      "2\n",
      "3\n",
      "4\n",
      "5\n",
      "6\n",
      "7\n",
      "8\n",
      "9\n"
     ]
    }
   ],
   "source": [
    "for num in range(10):\n",
    "    print(num)\n"
   ]
  },
  {
   "cell_type": "code",
   "execution_count": null,
   "id": "c6a2b302-0b4c-4096-999a-9e71f472aba0",
   "metadata": {},
   "outputs": [],
   "source": []
  }
 ],
 "metadata": {
  "kernelspec": {
   "display_name": "Python 3 (ipykernel)",
   "language": "python",
   "name": "python3"
  },
  "language_info": {
   "codemirror_mode": {
    "name": "ipython",
    "version": 3
   },
   "file_extension": ".py",
   "mimetype": "text/x-python",
   "name": "python",
   "nbconvert_exporter": "python",
   "pygments_lexer": "ipython3",
   "version": "3.10.8"
  }
 },
 "nbformat": 4,
 "nbformat_minor": 5
}
