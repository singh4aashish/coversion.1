{
 "cells": [
  {
   "cell_type": "code",
   "execution_count": 1,
   "id": "c748d1f1-9650-4487-aa19-3fa0ca78b42e",
   "metadata": {},
   "outputs": [],
   "source": [
    "a = 1"
   ]
  },
  {
   "cell_type": "code",
   "execution_count": 3,
   "id": "ac8f7dff-e840-435e-b9c8-1ae1ba109c90",
   "metadata": {},
   "outputs": [
    {
     "data": {
      "text/plain": [
       "1"
      ]
     },
     "execution_count": 3,
     "metadata": {},
     "output_type": "execute_result"
    }
   ],
   "source": [
    "a"
   ]
  },
  {
   "cell_type": "code",
   "execution_count": 4,
   "id": "66533694-b321-464f-9fd1-71b40bbe77d9",
   "metadata": {},
   "outputs": [
    {
     "data": {
      "text/plain": [
       "int"
      ]
     },
     "execution_count": 4,
     "metadata": {},
     "output_type": "execute_result"
    }
   ],
   "source": [
    "type(a)"
   ]
  },
  {
   "cell_type": "code",
   "execution_count": 5,
   "id": "820db264-73ac-42a3-9bcf-d940f0603281",
   "metadata": {},
   "outputs": [
    {
     "data": {
      "text/plain": [
       "1.0"
      ]
     },
     "execution_count": 5,
     "metadata": {},
     "output_type": "execute_result"
    }
   ],
   "source": [
    "float(a)"
   ]
  },
  {
   "cell_type": "code",
   "execution_count": 6,
   "id": "0a332b44-fb11-40c0-b269-c80a7d80d6af",
   "metadata": {},
   "outputs": [],
   "source": [
    "b = 1.0"
   ]
  },
  {
   "cell_type": "code",
   "execution_count": 7,
   "id": "e5812d62-9652-4b2b-bd77-27e58d47ca3d",
   "metadata": {},
   "outputs": [
    {
     "data": {
      "text/plain": [
       "1.0"
      ]
     },
     "execution_count": 7,
     "metadata": {},
     "output_type": "execute_result"
    }
   ],
   "source": [
    "b"
   ]
  },
  {
   "cell_type": "code",
   "execution_count": 8,
   "id": "12ca193e-8a03-4447-a033-c344505e90af",
   "metadata": {},
   "outputs": [
    {
     "data": {
      "text/plain": [
       "float"
      ]
     },
     "execution_count": 8,
     "metadata": {},
     "output_type": "execute_result"
    }
   ],
   "source": [
    "type(b)"
   ]
  },
  {
   "cell_type": "code",
   "execution_count": 9,
   "id": "2692d0d2-6ac5-4c0d-bc24-9372b693606e",
   "metadata": {},
   "outputs": [
    {
     "data": {
      "text/plain": [
       "1"
      ]
     },
     "execution_count": 9,
     "metadata": {},
     "output_type": "execute_result"
    }
   ],
   "source": [
    "int(b)"
   ]
  },
  {
   "cell_type": "code",
   "execution_count": 10,
   "id": "e0f7fbff-4162-4ebb-93c2-5c821b54d931",
   "metadata": {},
   "outputs": [],
   "source": [
    "c = 1"
   ]
  },
  {
   "cell_type": "code",
   "execution_count": 11,
   "id": "152c78af-5a86-4936-8268-8d6d8dae1f95",
   "metadata": {},
   "outputs": [
    {
     "data": {
      "text/plain": [
       "1"
      ]
     },
     "execution_count": 11,
     "metadata": {},
     "output_type": "execute_result"
    }
   ],
   "source": [
    "c"
   ]
  },
  {
   "cell_type": "code",
   "execution_count": 12,
   "id": "d937c1e4-e574-4e99-b9b1-a4495735bbc8",
   "metadata": {},
   "outputs": [
    {
     "data": {
      "text/plain": [
       "int"
      ]
     },
     "execution_count": 12,
     "metadata": {},
     "output_type": "execute_result"
    }
   ],
   "source": [
    "type(c)"
   ]
  },
  {
   "cell_type": "code",
   "execution_count": 13,
   "id": "1b3fffd9-fdfb-4a6e-aae2-515f8c6046d1",
   "metadata": {},
   "outputs": [
    {
     "data": {
      "text/plain": [
       "'1'"
      ]
     },
     "execution_count": 13,
     "metadata": {},
     "output_type": "execute_result"
    }
   ],
   "source": [
    "str(c)"
   ]
  },
  {
   "cell_type": "code",
   "execution_count": 15,
   "id": "0988155c-a292-4f37-aea1-5d5aa5780c37",
   "metadata": {},
   "outputs": [],
   "source": [
    "my_list= [1,2,3,4]"
   ]
  },
  {
   "cell_type": "code",
   "execution_count": 16,
   "id": "84bd4263-c22e-4099-9ae3-b3e64d089f6b",
   "metadata": {},
   "outputs": [
    {
     "data": {
      "text/plain": [
       "[1, 2, 3, 4]"
      ]
     },
     "execution_count": 16,
     "metadata": {},
     "output_type": "execute_result"
    }
   ],
   "source": [
    "my_list"
   ]
  },
  {
   "cell_type": "code",
   "execution_count": 22,
   "id": "a6be8817-8313-43fa-9a61-4e58663e2090",
   "metadata": {},
   "outputs": [],
   "source": [
    "my_list = (my_tuple)"
   ]
  },
  {
   "cell_type": "code",
   "execution_count": 23,
   "id": "0fc3d557-3aa7-47f8-90f7-7d2dab279682",
   "metadata": {},
   "outputs": [
    {
     "name": "stdout",
     "output_type": "stream",
     "text": [
      "[1, 1.0, 1]\n"
     ]
    }
   ],
   "source": [
    "print(my_tuple)"
   ]
  },
  {
   "cell_type": "code",
   "execution_count": 20,
   "id": "21a20821-8890-47df-9ee4-78e694bc0466",
   "metadata": {},
   "outputs": [],
   "source": [
    "my_tuple=[a,b,c,]"
   ]
  },
  {
   "cell_type": "code",
   "execution_count": 21,
   "id": "ad9cfcfc-704d-478c-9742-5c8a0f14f5b3",
   "metadata": {},
   "outputs": [
    {
     "data": {
      "text/plain": [
       "[1, 1.0, 1]"
      ]
     },
     "execution_count": 21,
     "metadata": {},
     "output_type": "execute_result"
    }
   ],
   "source": [
    "my_tuple"
   ]
  },
  {
   "cell_type": "code",
   "execution_count": 24,
   "id": "cd605d92-a091-42ea-bd0d-9a075b49248d",
   "metadata": {},
   "outputs": [],
   "source": [
    "my_tuple = (my_list)"
   ]
  },
  {
   "cell_type": "code",
   "execution_count": 25,
   "id": "68af6ee2-61b6-4837-8a70-b8652ec940a4",
   "metadata": {},
   "outputs": [
    {
     "name": "stdout",
     "output_type": "stream",
     "text": [
      "[1, 1.0, 1]\n"
     ]
    }
   ],
   "source": [
    "print(my_list)"
   ]
  },
  {
   "cell_type": "code",
   "execution_count": 29,
   "id": "b20221ee-ee14-47a2-8f17-7935f5113cb0",
   "metadata": {},
   "outputs": [],
   "source": [
    "dec = 100"
   ]
  },
  {
   "cell_type": "code",
   "execution_count": 30,
   "id": "ea1861d4-c355-4477-8462-cde927c7f406",
   "metadata": {},
   "outputs": [
    {
     "data": {
      "text/plain": [
       "100"
      ]
     },
     "execution_count": 30,
     "metadata": {},
     "output_type": "execute_result"
    }
   ],
   "source": [
    "dec"
   ]
  },
  {
   "cell_type": "code",
   "execution_count": 32,
   "id": "dbf9502b-c8ed-458b-bcdf-e60b86afaca1",
   "metadata": {},
   "outputs": [
    {
     "data": {
      "text/plain": [
       "'0b1100100'"
      ]
     },
     "execution_count": 32,
     "metadata": {},
     "output_type": "execute_result"
    }
   ],
   "source": [
    "bin(dec)"
   ]
  },
  {
   "cell_type": "code",
   "execution_count": 33,
   "id": "b92632b0-2d06-48b0-beca-05ec2e0bc394",
   "metadata": {},
   "outputs": [],
   "source": [
    "non_zero = 101"
   ]
  },
  {
   "cell_type": "code",
   "execution_count": 34,
   "id": "2331658c-dc7c-4bab-aa66-b4c22f4e91d6",
   "metadata": {},
   "outputs": [
    {
     "data": {
      "text/plain": [
       "101"
      ]
     },
     "execution_count": 34,
     "metadata": {},
     "output_type": "execute_result"
    }
   ],
   "source": [
    "non_zero"
   ]
  },
  {
   "cell_type": "code",
   "execution_count": 35,
   "id": "6542a13f-0dd7-42d8-bb4f-3b71052b3cec",
   "metadata": {},
   "outputs": [
    {
     "data": {
      "text/plain": [
       "True"
      ]
     },
     "execution_count": 35,
     "metadata": {},
     "output_type": "execute_result"
    }
   ],
   "source": [
    "bool(non_zero)"
   ]
  },
  {
   "cell_type": "code",
   "execution_count": null,
   "id": "614a09ea-e644-4ee2-b06e-b408c48994c4",
   "metadata": {},
   "outputs": [],
   "source": []
  }
 ],
 "metadata": {
  "kernelspec": {
   "display_name": "Python 3 (ipykernel)",
   "language": "python",
   "name": "python3"
  },
  "language_info": {
   "codemirror_mode": {
    "name": "ipython",
    "version": 3
   },
   "file_extension": ".py",
   "mimetype": "text/x-python",
   "name": "python",
   "nbconvert_exporter": "python",
   "pygments_lexer": "ipython3",
   "version": "3.10.8"
  }
 },
 "nbformat": 4,
 "nbformat_minor": 5
}
