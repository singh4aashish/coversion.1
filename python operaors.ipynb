{
 "cells": [
  {
   "cell_type": "markdown",
   "id": "d43e96da-4ea7-4f94-84b7-79ce695d5acd",
   "metadata": {},
   "source": [
    "topic one : Calculate the sum, difference, product, and quotient of two numbers."
   ]
  },
  {
   "cell_type": "code",
   "execution_count": 1,
   "id": "744d3b0f-2909-4511-b6c0-53aca7dd1d61",
   "metadata": {},
   "outputs": [],
   "source": [
    "a = 2 "
   ]
  },
  {
   "cell_type": "code",
   "execution_count": 2,
   "id": "b5642575-45b3-4d18-9361-e07bc54ef63c",
   "metadata": {},
   "outputs": [],
   "source": [
    "b= 3"
   ]
  },
  {
   "cell_type": "code",
   "execution_count": 3,
   "id": "947af1e0-0e39-4559-a71b-086d720c5a9f",
   "metadata": {},
   "outputs": [
    {
     "data": {
      "text/plain": [
       "5"
      ]
     },
     "execution_count": 3,
     "metadata": {},
     "output_type": "execute_result"
    }
   ],
   "source": [
    "a+b #additon"
   ]
  },
  {
   "cell_type": "code",
   "execution_count": 4,
   "id": "299d16d3-fa8d-447b-811b-d6badaaeb043",
   "metadata": {},
   "outputs": [],
   "source": [
    "a = 10"
   ]
  },
  {
   "cell_type": "code",
   "execution_count": 5,
   "id": "c66a36a8-a340-4631-ade5-6d3553b3bb1b",
   "metadata": {},
   "outputs": [],
   "source": [
    "b = 8"
   ]
  },
  {
   "cell_type": "code",
   "execution_count": 6,
   "id": "90a6662c-8d4a-4705-8e4b-e4c3dbf71d3f",
   "metadata": {},
   "outputs": [
    {
     "data": {
      "text/plain": [
       "2"
      ]
     },
     "execution_count": 6,
     "metadata": {},
     "output_type": "execute_result"
    }
   ],
   "source": [
    "a - b # sub "
   ]
  },
  {
   "cell_type": "code",
   "execution_count": 7,
   "id": "0e4e45f0-7159-4544-b996-d9ce995d2b49",
   "metadata": {},
   "outputs": [],
   "source": [
    "a = 2"
   ]
  },
  {
   "cell_type": "code",
   "execution_count": 8,
   "id": "80f9047f-4a99-441d-988c-c72e8477abc1",
   "metadata": {},
   "outputs": [],
   "source": [
    "b = 3"
   ]
  },
  {
   "cell_type": "code",
   "execution_count": 10,
   "id": "afa62329-415c-4e9e-86ac-84484e3e770f",
   "metadata": {},
   "outputs": [
    {
     "data": {
      "text/plain": [
       "6"
      ]
     },
     "execution_count": 10,
     "metadata": {},
     "output_type": "execute_result"
    }
   ],
   "source": [
    "a* b  # multiplication"
   ]
  },
  {
   "cell_type": "code",
   "execution_count": 11,
   "id": "769c9642-6db1-4c64-8212-4aaaa7c16777",
   "metadata": {},
   "outputs": [],
   "source": [
    "a = 10\n"
   ]
  },
  {
   "cell_type": "code",
   "execution_count": 12,
   "id": "b567d84d-a2fa-4e24-9e42-1863ba2b3ed2",
   "metadata": {},
   "outputs": [],
   "source": [
    "b = 2"
   ]
  },
  {
   "cell_type": "code",
   "execution_count": 13,
   "id": "65f5602e-e501-422b-a4a1-7dfa197e9c2b",
   "metadata": {},
   "outputs": [
    {
     "data": {
      "text/plain": [
       "5.0"
      ]
     },
     "execution_count": 13,
     "metadata": {},
     "output_type": "execute_result"
    }
   ],
   "source": [
    "a/b # division"
   ]
  },
  {
   "cell_type": "markdown",
   "id": "0d7f5bc6-5c48-4729-be1c-278aff5cedee",
   "metadata": {},
   "source": [
    " Perform various assignment operations on a variable."
   ]
  },
  {
   "cell_type": "code",
   "execution_count": 14,
   "id": "15da222f-9759-4623-b441-894c7cd87311",
   "metadata": {},
   "outputs": [],
   "source": [
    "#assignment operators\n",
    "a = 6"
   ]
  },
  {
   "cell_type": "code",
   "execution_count": 15,
   "id": "6572fb9f-3ca3-4508-a36b-8570ac81f79a",
   "metadata": {},
   "outputs": [
    {
     "data": {
      "text/plain": [
       "16"
      ]
     },
     "execution_count": 15,
     "metadata": {},
     "output_type": "execute_result"
    }
   ],
   "source": [
    "a + 10"
   ]
  },
  {
   "cell_type": "code",
   "execution_count": 16,
   "id": "910e84dc-51f3-433a-bc84-ad2d30672664",
   "metadata": {},
   "outputs": [],
   "source": [
    "a +=5 #additional operators"
   ]
  },
  {
   "cell_type": "code",
   "execution_count": 17,
   "id": "ea69351b-93fa-456d-8245-38f181d2e7fc",
   "metadata": {},
   "outputs": [
    {
     "data": {
      "text/plain": [
       "11"
      ]
     },
     "execution_count": 17,
     "metadata": {},
     "output_type": "execute_result"
    }
   ],
   "source": [
    "a"
   ]
  },
  {
   "cell_type": "code",
   "execution_count": 18,
   "id": "99460c4c-aef1-473b-878a-31ed28dd50cf",
   "metadata": {},
   "outputs": [],
   "source": [
    "a -= 5 #subtraction operators"
   ]
  },
  {
   "cell_type": "code",
   "execution_count": 19,
   "id": "169f7ee0-0155-43f5-9563-18f3c0c96fa3",
   "metadata": {},
   "outputs": [
    {
     "data": {
      "text/plain": [
       "6"
      ]
     },
     "execution_count": 19,
     "metadata": {},
     "output_type": "execute_result"
    }
   ],
   "source": [
    "a"
   ]
  },
  {
   "cell_type": "code",
   "execution_count": 20,
   "id": "143a2e1c-7c8a-41c6-86c9-ddb93aa5249b",
   "metadata": {},
   "outputs": [],
   "source": [
    "a *=3  #multipliaction operators"
   ]
  },
  {
   "cell_type": "code",
   "execution_count": 21,
   "id": "2e92edb3-7b02-4579-839f-473f6fc5c5c2",
   "metadata": {},
   "outputs": [
    {
     "data": {
      "text/plain": [
       "18"
      ]
     },
     "execution_count": 21,
     "metadata": {},
     "output_type": "execute_result"
    }
   ],
   "source": [
    "a"
   ]
  },
  {
   "cell_type": "code",
   "execution_count": 22,
   "id": "012fcfa8-f816-4756-806e-559c2faa2d9a",
   "metadata": {},
   "outputs": [],
   "source": [
    "a/=2 #divisional operators"
   ]
  },
  {
   "cell_type": "code",
   "execution_count": 23,
   "id": "377b882d-433a-4cca-baef-b4df6edf9489",
   "metadata": {},
   "outputs": [
    {
     "data": {
      "text/plain": [
       "9.0"
      ]
     },
     "execution_count": 23,
     "metadata": {},
     "output_type": "execute_result"
    }
   ],
   "source": [
    "a"
   ]
  },
  {
   "cell_type": "code",
   "execution_count": 25,
   "id": "281b0d78-8dd3-4ecf-99b0-e7dacccc2098",
   "metadata": {},
   "outputs": [],
   "source": [
    "#Compare two numbers and print the results."
   ]
  },
  {
   "cell_type": "code",
   "execution_count": 26,
   "id": "238031e3-d379-43ec-a9d1-631625dd455e",
   "metadata": {},
   "outputs": [],
   "source": [
    "a = 2 "
   ]
  },
  {
   "cell_type": "code",
   "execution_count": 27,
   "id": "3ff223ee-a620-430e-9fe2-3d9b2c4055c5",
   "metadata": {},
   "outputs": [],
   "source": [
    "b = 3"
   ]
  },
  {
   "cell_type": "code",
   "execution_count": 28,
   "id": "15f883fb-ca90-4325-9367-b6b65decb559",
   "metadata": {},
   "outputs": [
    {
     "data": {
      "text/plain": [
       "False"
      ]
     },
     "execution_count": 28,
     "metadata": {},
     "output_type": "execute_result"
    }
   ],
   "source": [
    "a > b"
   ]
  },
  {
   "cell_type": "code",
   "execution_count": 31,
   "id": "6c23e057-b395-4040-81af-1f84db53282a",
   "metadata": {},
   "outputs": [
    {
     "data": {
      "text/plain": [
       "True"
      ]
     },
     "execution_count": 31,
     "metadata": {},
     "output_type": "execute_result"
    }
   ],
   "source": [
    "b>a"
   ]
  },
  {
   "cell_type": "code",
   "execution_count": 32,
   "id": "a0f2aa33-655e-4cc0-aa4d-891c9216d7b9",
   "metadata": {},
   "outputs": [],
   "source": [
    "#Check conditions using logical operators."
   ]
  },
  {
   "cell_type": "code",
   "execution_count": 33,
   "id": "bec956ee-080b-40b4-aac7-120782316b85",
   "metadata": {},
   "outputs": [],
   "source": [
    "#logical operators "
   ]
  },
  {
   "cell_type": "code",
   "execution_count": 34,
   "id": "53730da6-034a-4b61-bdb8-815905bf72b2",
   "metadata": {},
   "outputs": [],
   "source": [
    "#and operators\n",
    "a = 2"
   ]
  },
  {
   "cell_type": "code",
   "execution_count": 35,
   "id": "6d75e9dd-d37a-46ee-8a12-d76ff57c55be",
   "metadata": {},
   "outputs": [],
   "source": [
    "b= 3"
   ]
  },
  {
   "cell_type": "code",
   "execution_count": 36,
   "id": "201971a4-ea7c-48a8-adf4-08c893a693ab",
   "metadata": {},
   "outputs": [
    {
     "data": {
      "text/plain": [
       "3"
      ]
     },
     "execution_count": 36,
     "metadata": {},
     "output_type": "execute_result"
    }
   ],
   "source": [
    "a and b"
   ]
  },
  {
   "cell_type": "code",
   "execution_count": 37,
   "id": "e39e588f-2835-4660-ae7a-ef97563a598b",
   "metadata": {},
   "outputs": [
    {
     "data": {
      "text/plain": [
       "'0b11'"
      ]
     },
     "execution_count": 37,
     "metadata": {},
     "output_type": "execute_result"
    }
   ],
   "source": [
    "bin(b)"
   ]
  },
  {
   "cell_type": "code",
   "execution_count": 38,
   "id": "e5ecb539-620b-406e-9047-78c8df2bdc74",
   "metadata": {},
   "outputs": [
    {
     "data": {
      "text/plain": [
       "2"
      ]
     },
     "execution_count": 38,
     "metadata": {},
     "output_type": "execute_result"
    }
   ],
   "source": [
    "a or b # or operators "
   ]
  },
  {
   "cell_type": "code",
   "execution_count": 41,
   "id": "b858a9d6-8599-48e3-8dae-93ef07d1b88f",
   "metadata": {},
   "outputs": [
    {
     "data": {
      "text/plain": [
       "'0b10'"
      ]
     },
     "execution_count": 41,
     "metadata": {},
     "output_type": "execute_result"
    }
   ],
   "source": [
    "bin(a)"
   ]
  },
  {
   "cell_type": "code",
   "execution_count": 42,
   "id": "835f8a53-1f5e-498a-855b-dcc0f2c1ee09",
   "metadata": {},
   "outputs": [],
   "source": [
    "# Check the identity of variables."
   ]
  },
  {
   "cell_type": "code",
   "execution_count": 43,
   "id": "d5121007-ce27-4feb-b0dd-966f50557005",
   "metadata": {},
   "outputs": [],
   "source": [
    "a = \"aashish\""
   ]
  },
  {
   "cell_type": "code",
   "execution_count": 44,
   "id": "467f7a8f-7c23-481e-85b6-38307b9d4e3a",
   "metadata": {},
   "outputs": [
    {
     "data": {
      "text/plain": [
       "'aashish'"
      ]
     },
     "execution_count": 44,
     "metadata": {},
     "output_type": "execute_result"
    }
   ],
   "source": [
    "a"
   ]
  },
  {
   "cell_type": "code",
   "execution_count": 45,
   "id": "d921e50f-4af7-41a7-a5cd-77fcc1bf538e",
   "metadata": {},
   "outputs": [],
   "source": [
    "b = a"
   ]
  },
  {
   "cell_type": "code",
   "execution_count": 46,
   "id": "98a8e60f-c01a-4442-99c8-b0743c0b5812",
   "metadata": {},
   "outputs": [
    {
     "data": {
      "text/plain": [
       "'aashish'"
      ]
     },
     "execution_count": 46,
     "metadata": {},
     "output_type": "execute_result"
    }
   ],
   "source": [
    "b"
   ]
  },
  {
   "cell_type": "code",
   "execution_count": 47,
   "id": "734ea491-164c-4bb4-bc4e-56afe80f2cd1",
   "metadata": {},
   "outputs": [],
   "source": [
    "# Perform bitwise operations on any two integers. "
   ]
  },
  {
   "cell_type": "code",
   "execution_count": 48,
   "id": "2225d1d5-103e-4e83-9304-8653f2eeb5ca",
   "metadata": {},
   "outputs": [
    {
     "data": {
      "text/plain": [
       "20"
      ]
     },
     "execution_count": 48,
     "metadata": {},
     "output_type": "execute_result"
    }
   ],
   "source": [
    "20 & 20"
   ]
  },
  {
   "cell_type": "code",
   "execution_count": 49,
   "id": "f49653f4-07f4-4b14-99cb-0e9310d19f0c",
   "metadata": {},
   "outputs": [
    {
     "data": {
      "text/plain": [
       "'0b10100'"
      ]
     },
     "execution_count": 49,
     "metadata": {},
     "output_type": "execute_result"
    }
   ],
   "source": [
    "bin(20)"
   ]
  },
  {
   "cell_type": "code",
   "execution_count": 52,
   "id": "c21ad6bb-8235-479a-b0f3-fa38099fd18a",
   "metadata": {},
   "outputs": [
    {
     "data": {
      "text/plain": [
       "22"
      ]
     },
     "execution_count": 52,
     "metadata": {},
     "output_type": "execute_result"
    }
   ],
   "source": [
    "20 | 2"
   ]
  },
  {
   "cell_type": "code",
   "execution_count": 53,
   "id": "d0401fa4-5819-4ba4-8168-cc7f478e9f85",
   "metadata": {},
   "outputs": [
    {
     "data": {
      "text/plain": [
       "'0b10110'"
      ]
     },
     "execution_count": 53,
     "metadata": {},
     "output_type": "execute_result"
    }
   ],
   "source": [
    "bin(22)"
   ]
  },
  {
   "cell_type": "code",
   "execution_count": 54,
   "id": "e7344439-039e-4796-8d21-0d36bb82bdf3",
   "metadata": {},
   "outputs": [],
   "source": [
    "#Use anary operators to change the sign of a number."
   ]
  },
  {
   "cell_type": "code",
   "execution_count": 55,
   "id": "edcbe141-9f55-4fb7-aa13-3f6f4f219f68",
   "metadata": {},
   "outputs": [],
   "source": [
    "my_number = 12"
   ]
  },
  {
   "cell_type": "code",
   "execution_count": 56,
   "id": "7324ade4-f776-4e83-b164-e236ce9fa9eb",
   "metadata": {},
   "outputs": [
    {
     "data": {
      "text/plain": [
       "12"
      ]
     },
     "execution_count": 56,
     "metadata": {},
     "output_type": "execute_result"
    }
   ],
   "source": [
    "my_number"
   ]
  },
  {
   "cell_type": "code",
   "execution_count": 58,
   "id": "0967be2f-258c-4645-9a7b-e73234d66d06",
   "metadata": {},
   "outputs": [],
   "source": [
    "changed_number = -my_number"
   ]
  },
  {
   "cell_type": "code",
   "execution_count": 59,
   "id": "bdc5b3fd-5bca-47a3-9990-14d4d0cffde7",
   "metadata": {},
   "outputs": [
    {
     "data": {
      "text/plain": [
       "-12"
      ]
     },
     "execution_count": 59,
     "metadata": {},
     "output_type": "execute_result"
    }
   ],
   "source": [
    "changed_number"
   ]
  },
  {
   "cell_type": "code",
   "execution_count": 69,
   "id": "27b68d49-725d-42d1-89c7-3b138b006fdd",
   "metadata": {},
   "outputs": [],
   "source": [
    "#Use the ternary operator to assign values based on conditions."
   ]
  },
  {
   "cell_type": "code",
   "execution_count": 72,
   "id": "e9c26623-6d0c-4831-ad08-7bed7bb88c54",
   "metadata": {},
   "outputs": [],
   "source": [
    "a = 10"
   ]
  },
  {
   "cell_type": "code",
   "execution_count": 73,
   "id": "39e0e18b-d541-4f55-970b-34ebef099d4d",
   "metadata": {},
   "outputs": [],
   "source": [
    "b = 5"
   ]
  },
  {
   "cell_type": "code",
   "execution_count": 75,
   "id": "0fa38e6c-5930-4368-8b36-399f5f3bda01",
   "metadata": {},
   "outputs": [],
   "source": [
    "min = a if a > b else b"
   ]
  },
  {
   "cell_type": "code",
   "execution_count": 76,
   "id": "3fe94fc6-8071-4e2c-b6f0-8a8c2884bf94",
   "metadata": {},
   "outputs": [
    {
     "name": "stdout",
     "output_type": "stream",
     "text": [
      "10\n"
     ]
    }
   ],
   "source": [
    "print(min)"
   ]
  },
  {
   "cell_type": "code",
   "execution_count": null,
   "id": "957bc43d-506c-498d-9093-44c6470cbb38",
   "metadata": {},
   "outputs": [],
   "source": []
  }
 ],
 "metadata": {
  "kernelspec": {
   "display_name": "Python 3 (ipykernel)",
   "language": "python",
   "name": "python3"
  },
  "language_info": {
   "codemirror_mode": {
    "name": "ipython",
    "version": 3
   },
   "file_extension": ".py",
   "mimetype": "text/x-python",
   "name": "python",
   "nbconvert_exporter": "python",
   "pygments_lexer": "ipython3",
   "version": "3.10.8"
  }
 },
 "nbformat": 4,
 "nbformat_minor": 5
}
