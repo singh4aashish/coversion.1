{
 "cells": [
  {
   "cell_type": "markdown",
   "id": "59f3372f-6bf5-495f-aa6b-8d1a95eb2dfd",
   "metadata": {},
   "source": [
    "print numbers from 1 to 5 using while loop"
   ]
  },
  {
   "cell_type": "code",
   "execution_count": 1,
   "id": "082e8fbc-0213-4336-9817-590daea89b01",
   "metadata": {},
   "outputs": [
    {
     "name": "stdout",
     "output_type": "stream",
     "text": [
      "1\n",
      "2\n",
      "3\n",
      "4\n"
     ]
    }
   ],
   "source": [
    "n=5\n",
    "i=1\n",
    "while i < n:\n",
    "    print(i)\n",
    "    i= i+1"
   ]
  },
  {
   "cell_type": "code",
   "execution_count": 2,
   "id": "d0fd4184-a13d-4416-baea-52b636548660",
   "metadata": {},
   "outputs": [
    {
     "name": "stdout",
     "output_type": "stream",
     "text": [
      "1\n",
      "2\n",
      "3\n",
      "4\n",
      "5\n"
     ]
    }
   ],
   "source": [
    "n = 6\n",
    "i = 1\n",
    "while i < n:\n",
    "    print(i)\n",
    "    i=i+1"
   ]
  },
  {
   "cell_type": "markdown",
   "id": "d6b186c9-336d-4357-99bc-815975c3d49c",
   "metadata": {},
   "source": [
    "calculate the sum of numbers from 1 to 10 using a while loop"
   ]
  },
  {
   "cell_type": "code",
   "execution_count": 4,
   "id": "9b47f85c-de6a-45c2-b3d9-a59a74e656eb",
   "metadata": {},
   "outputs": [
    {
     "name": "stdout",
     "output_type": "stream",
     "text": [
      "the sum of numbers from 1 to 10 is : 55\n"
     ]
    }
   ],
   "source": [
    "sum_of_number = 0\n",
    "current_number= 1\n",
    "while current_number <=10:\n",
    "    sum_of_number += current_number\n",
    "    current_number += 1\n",
    "print(\"the sum of numbers from 1 to 10 is :\",sum_of_number)    "
   ]
  },
  {
   "cell_type": "markdown",
   "id": "b26ca03a-dd7a-4bda-8408-8a0417efa969",
   "metadata": {},
   "source": [
    "calculate the numbers of vowels in a string using a for loop"
   ]
  },
  {
   "cell_type": "code",
   "execution_count": 8,
   "id": "cdc27ad1-79a8-497c-a17a-48ec9497629b",
   "metadata": {},
   "outputs": [
    {
     "name": "stdout",
     "output_type": "stream",
     "text": [
      "Number of vowels in the string: 3\n"
     ]
    }
   ],
   "source": [
    "\n",
    "input_string = \"aashish!\"\n",
    "result = count_vowels(input_string)\n",
    "\n",
    "print(\"Number of vowels in the string:\", result)\n"
   ]
  },
  {
   "cell_type": "markdown",
   "id": "c31dfbe1-adf7-4553-979c-53f2b893c2a7",
   "metadata": {},
   "source": [
    "print a pattern using nested loops"
   ]
  },
  {
   "cell_type": "code",
   "execution_count": 1,
   "id": "b9752d0c-0fd5-46f2-9749-2f73513771eb",
   "metadata": {},
   "outputs": [
    {
     "name": "stdout",
     "output_type": "stream",
     "text": [
      "* \n",
      "* * \n",
      "* * * \n",
      "* * * * \n",
      "* * * * * \n"
     ]
    }
   ],
   "source": [
    "num_rows = 5\n",
    "\n",
    "for i in range(1, num_rows + 1):\n",
    "    for j in range(1, i + 1):\n",
    "        print(\"*\", end=\" \") \n",
    "      \n",
    "    print() \n",
    "    "
   ]
  },
  {
   "cell_type": "code",
   "execution_count": null,
   "id": "626d6bf5-bd33-4fc1-9473-20b5893e67cf",
   "metadata": {},
   "outputs": [],
   "source": [
    "num_rows = 4\n",
    "num_cols = 4\n",
    "for i in range(1, num_rows + 1):\n",
    "    for j in range(1, num_cols + 1):\n",
    "        result = i * j\n",
    "        print(f\"{i} * {j} = {result}\", end=\"\\t\")  \n",
    "    print()  "
   ]
  }
 ],
 "metadata": {
  "kernelspec": {
   "display_name": "Python 3 (ipykernel)",
   "language": "python",
   "name": "python3"
  },
  "language_info": {
   "codemirror_mode": {
    "name": "ipython",
    "version": 3
   },
   "file_extension": ".py",
   "mimetype": "text/x-python",
   "name": "python",
   "nbconvert_exporter": "python",
   "pygments_lexer": "ipython3",
   "version": "3.10.8"
  }
 },
 "nbformat": 4,
 "nbformat_minor": 5
}
